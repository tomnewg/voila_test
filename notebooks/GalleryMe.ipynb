{
 "cells": [
  {
   "cell_type": "code",
   "execution_count": 1,
   "id": "4d2e48a2",
   "metadata": {},
   "outputs": [
    {
     "name": "stderr",
     "output_type": "stream",
     "text": [
      "/Users/tomneugebauer/opt/anaconda3/envs/NLPenv/lib/python3.7/site-packages/arctic/store/_pandas_ndarray_store.py:8: FutureWarning: The Panel class is removed from pandas. Accessing it from the top-level namespace will also be removed in the next version\n",
      "  from pandas import Panel\n"
     ]
    }
   ],
   "source": [
    "from IPython.display import display, HTML\n",
    "from IPython.display import display, Markdown, clear_output\n",
    "import pandas as pd\n",
    "import datetime\n",
    "import gmaps\n",
    "import geopy.geocoders as geo\n",
    "import ipywidgets as widgets\n",
    "from arctic import Arctic"
   ]
  },
  {
   "cell_type": "code",
   "execution_count": 2,
   "id": "fa942715",
   "metadata": {},
   "outputs": [],
   "source": [
    "%run config.ipynb\n",
    "# connect with all APIs\n",
    "gmaps.configure(api_key=gmap_key)\n",
    "store = Arctic(mongo_host=mongo_setting,connectTimeoutMS=9000)"
   ]
  },
  {
   "cell_type": "code",
   "execution_count": 3,
   "id": "500b2274",
   "metadata": {},
   "outputs": [],
   "source": [
    "galleries = store['Art'].read(\"galleries\").data\n",
    "events = store['Art'].read(\"events\").data"
   ]
  },
  {
   "cell_type": "code",
   "execution_count": 5,
   "id": "7b2784bb",
   "metadata": {},
   "outputs": [],
   "source": [
    "# setup up the starting map\n",
    "# geolocator = geo.AlgoliaPlaces(app_id=algo_key)\n",
    "# location = geolocator.geocode(\"Darlinghurst, 2010\")\n",
    "# start_map = (location.latitude, location.longitude)\n",
    "start_map = (-33.8732, 151.225)\n",
    "# date today\n",
    "today = datetime.datetime.today().date()"
   ]
  },
  {
   "cell_type": "code",
   "execution_count": 6,
   "id": "5c6030d0",
   "metadata": {},
   "outputs": [],
   "source": [
    "# events = pd.read_excel(\"events.xlsx\",index_col=0)"
   ]
  },
  {
   "cell_type": "code",
   "execution_count": 7,
   "id": "4588e4ab",
   "metadata": {},
   "outputs": [],
   "source": [
    "# events.columns"
   ]
  },
  {
   "cell_type": "code",
   "execution_count": 8,
   "id": "cc22fa86",
   "metadata": {},
   "outputs": [],
   "source": [
    "# events.to_excel(\"events.xlsx\")"
   ]
  },
  {
   "cell_type": "code",
   "execution_count": null,
   "id": "c50d2c4b",
   "metadata": {},
   "outputs": [],
   "source": []
  },
  {
   "cell_type": "code",
   "execution_count": 9,
   "id": "8c2052a4",
   "metadata": {},
   "outputs": [],
   "source": [
    "# galleries = pd.read_excel(\"galleries.xlsx\", index_col=0)"
   ]
  },
  {
   "cell_type": "code",
   "execution_count": 10,
   "id": "514750b8",
   "metadata": {},
   "outputs": [],
   "source": [
    "events2 = events.copy()\n"
   ]
  },
  {
   "cell_type": "code",
   "execution_count": 11,
   "id": "6eb13b3f",
   "metadata": {},
   "outputs": [],
   "source": [
    "# events"
   ]
  },
  {
   "cell_type": "code",
   "execution_count": 12,
   "id": "b507ab6c",
   "metadata": {},
   "outputs": [],
   "source": [
    "# galleries"
   ]
  },
  {
   "cell_type": "code",
   "execution_count": 13,
   "id": "46ec56ec",
   "metadata": {},
   "outputs": [],
   "source": [
    "for event in events.index:\n",
    "    try:\n",
    "        gallery_id = event.split(\"|\")[1]\n",
    "        events2.loc[event,\"Gallery\"] = galleries.loc[gallery_id,\"Name\"]\n",
    "        events2.loc[event,\"Area\"] = galleries.loc[gallery_id,\"Area\"]\n",
    "        events2.loc[event,\"SubArea\"] = galleries.loc[gallery_id,\"SubArea\"]\n",
    "        events2.loc[event,\"Address\"] = galleries.loc[gallery_id,\"Address\"]\n",
    "        events2.loc[event,\"Website\"] = galleries.loc[gallery_id,\"Website\"]\n",
    "    except:\n",
    "#         print(\"Couldn't find \"+gallery_id)\n",
    "        pass"
   ]
  },
  {
   "cell_type": "code",
   "execution_count": 14,
   "id": "930c724c",
   "metadata": {},
   "outputs": [],
   "source": [
    "events2['Date'] = events2['Date'].dt.date"
   ]
  },
  {
   "cell_type": "code",
   "execution_count": 15,
   "id": "f8240713",
   "metadata": {},
   "outputs": [],
   "source": [
    "from_date = today - datetime.timedelta(days=2)\n",
    "to_date = today + datetime.timedelta(days=7)"
   ]
  },
  {
   "cell_type": "code",
   "execution_count": 16,
   "id": "7ce91588",
   "metadata": {},
   "outputs": [],
   "source": [
    "events2 = events2[(events2[\"Date\"] >= from_date) & (events2[\"Date\"] <= to_date)]"
   ]
  },
  {
   "cell_type": "code",
   "execution_count": 17,
   "id": "651a4316",
   "metadata": {},
   "outputs": [],
   "source": [
    "order = ['Gallery','Type', 'Title', 'Artists',  'Date', 'Start', 'End', 'Address','SubArea', 'Area', 'Website']\n",
    "events2 = events2[order]"
   ]
  },
  {
   "cell_type": "code",
   "execution_count": 18,
   "id": "c0c7be8a",
   "metadata": {},
   "outputs": [],
   "source": [
    "galleries_map = []\n",
    "for event in events2.index:\n",
    "    try:\n",
    "        gallery = event.split(\"|\")[1]\n",
    "        if gallery in galleries.Latitude.dropna().index:\n",
    "            lat = galleries.loc[gallery,\"Latitude\"]\n",
    "            long = galleries.loc[gallery,\"Longitude\"]\n",
    "            galleries_map.append({\n",
    "                    'name': galleries.loc[gallery,\"Name\"],\n",
    "                    'address': galleries.loc[gallery,\"Address\"],\n",
    "                    'location': (lat, long)})\n",
    "    except:\n",
    "#         print(\"Couldn't find \"+gallery_id)\n",
    "        pass"
   ]
  },
  {
   "cell_type": "code",
   "execution_count": 19,
   "id": "e0cfd933",
   "metadata": {},
   "outputs": [],
   "source": [
    "gallery_locations = [gallery['location'] for gallery in galleries_map]\n",
    "info_box_template = \"\"\"\n",
    "<dl>\n",
    "<dt>Name</dt><dd>{name}</dd>\n",
    "<dt>Address</dt><dd>{address}</dd>\n",
    "</dl>\n",
    "\"\"\"\n",
    "gallery_info = [info_box_template.format(**gallery) for gallery in galleries_map]"
   ]
  },
  {
   "cell_type": "code",
   "execution_count": 20,
   "id": "123c54bc",
   "metadata": {},
   "outputs": [],
   "source": [
    "# galleries"
   ]
  },
  {
   "cell_type": "code",
   "execution_count": 21,
   "id": "d9223114",
   "metadata": {},
   "outputs": [],
   "source": [
    "\n",
    "out3 = widgets.Output()\n",
    "with out3:\n",
    "    fig = gmaps.figure(center=start_map, zoom_level=13.5)\n",
    "    layer = gmaps.marker_layer(gallery_locations, info_box_content=gallery_info)\n",
    "    fig.add_layer(layer)\n",
    "    display(fig)\n"
   ]
  },
  {
   "cell_type": "code",
   "execution_count": 22,
   "id": "a9a8dc07",
   "metadata": {},
   "outputs": [],
   "source": [
    "# gmaps."
   ]
  },
  {
   "cell_type": "code",
   "execution_count": 23,
   "id": "2b867aeb",
   "metadata": {},
   "outputs": [],
   "source": [
    "# display(events2)"
   ]
  },
  {
   "cell_type": "code",
   "execution_count": 24,
   "id": "0984327c",
   "metadata": {},
   "outputs": [],
   "source": [
    "# events2"
   ]
  },
  {
   "cell_type": "code",
   "execution_count": null,
   "id": "3b803b88",
   "metadata": {},
   "outputs": [],
   "source": []
  },
  {
   "cell_type": "code",
   "execution_count": 25,
   "id": "d86c2864",
   "metadata": {},
   "outputs": [],
   "source": [
    "next_days = []\n",
    "for day in sorted(list(set(events2.Date))):\n",
    "#     print(day.strftime('%A'))\n",
    "    next_days.append(day.strftime('%A'))"
   ]
  },
  {
   "cell_type": "code",
   "execution_count": 26,
   "id": "7637d11a",
   "metadata": {},
   "outputs": [],
   "source": [
    "dates = sorted(list(set(events2.Date)))"
   ]
  },
  {
   "cell_type": "code",
   "execution_count": 27,
   "id": "9ba7bcf8",
   "metadata": {},
   "outputs": [],
   "source": [
    "# events2[events2.Date == dates[0]]"
   ]
  },
  {
   "cell_type": "code",
   "execution_count": 28,
   "id": "70d72353",
   "metadata": {},
   "outputs": [],
   "source": [
    "# next_days"
   ]
  },
  {
   "cell_type": "code",
   "execution_count": 29,
   "id": "64031776",
   "metadata": {},
   "outputs": [],
   "source": [
    "sub_tab=[widgets.Output() for i in range(len(dates))]\n",
    "tab = widgets.Tab(sub_tab)\n",
    "for i in range (len(dates)):\n",
    "    tab.set_title(i, next_days[i])\n",
    "\n",
    "    with sub_tab[i]:\n",
    "        clear_output()\n",
    "        global events_set\n",
    "        global fig\n",
    "        events_set = events2[events2.Date == dates[i]].copy()\n",
    "        galleries_map = []\n",
    "        for event in events_set.index:\n",
    "            try:\n",
    "                gallery = event.split(\"|\")[1]\n",
    "                if gallery in galleries.Latitude.dropna().index:\n",
    "                    lat = galleries.loc[gallery,\"Latitude\"]\n",
    "                    long = galleries.loc[gallery,\"Longitude\"]\n",
    "                    galleries_map.append({\n",
    "                            'name': galleries.loc[gallery,\"Name\"],\n",
    "                            'address': galleries.loc[gallery,\"Address\"],\n",
    "                            'location': (lat, long)})\n",
    "            except:\n",
    "        #         print(\"Couldn't find \"+gallery_id)\n",
    "                pass\n",
    "        gallery_locations = [gallery['location'] for gallery in galleries_map]\n",
    "        #         fig = gmaps.figure(center=start_map, zoom_level=13.5)\n",
    "        gallery_info = [info_box_template.format(**gallery) for gallery in galleries_map]\n",
    "        fig = gmaps.figure(center=start_map, zoom_level=13.5)\n",
    "        layer = gmaps.marker_layer(gallery_locations, info_box_content=gallery_info)\n",
    "        fig.add_layer(layer)\n",
    "        clear_output()\n",
    "        display(fig)\n",
    "        events_set.Date = pd.to_datetime(events_set.Date).dt.strftime('%d/%m/%Y')\n",
    "        events_set.Start = pd.to_datetime(events_set.Start).dt.strftime('%H:%M')\n",
    "        events_set.End = pd.to_datetime(events_set.End).dt.strftime('%H:%M')\n",
    "        events_set = events_set.style.hide_index()\n",
    "#         display(out3)\n",
    "        display(events_set)\n",
    "#         fig\n",
    "\n",
    " "
   ]
  },
  {
   "cell_type": "markdown",
   "id": "154bc3a1",
   "metadata": {},
   "source": [
    "### GalleryMe"
   ]
  },
  {
   "cell_type": "code",
   "execution_count": 30,
   "id": "38528a30",
   "metadata": {},
   "outputs": [
    {
     "data": {
      "application/vnd.jupyter.widget-view+json": {
       "model_id": "dfed3c5802cc432785f0c745f4f396ee",
       "version_major": 2,
       "version_minor": 0
      },
      "text/plain": [
       "Tab(children=(Output(), Output(), Output(), Output(), Output(), Output()), _titles={'0': 'Wednesday', '1': 'Th…"
      ]
     },
     "metadata": {},
     "output_type": "display_data"
    }
   ],
   "source": [
    "display(tab)"
   ]
  },
  {
   "cell_type": "code",
   "execution_count": 31,
   "id": "dde6799a",
   "metadata": {},
   "outputs": [],
   "source": [
    "# display(HTML(events2.to_html()))"
   ]
  },
  {
   "cell_type": "code",
   "execution_count": 32,
   "id": "593337e7",
   "metadata": {},
   "outputs": [],
   "source": [
    "def load_style(widget):\n",
    "    with out3:\n",
    "        i = tab.selected_index\n",
    "        events_set = events2[events2.Date == dates[i]]\n",
    "        galleries_map = []\n",
    "        for event in events_set.index:\n",
    "            try:\n",
    "                gallery = event.split(\"|\")[1]\n",
    "                if gallery in galleries.Latitude.dropna().index:\n",
    "                    lat = galleries.loc[gallery,\"Latitude\"]\n",
    "                    long = galleries.loc[gallery,\"Longitude\"]\n",
    "                    galleries_map.append({\n",
    "                            'name': galleries.loc[gallery,\"Name\"],\n",
    "                            'address': galleries.loc[gallery,\"Address\"],\n",
    "                            'location': (lat, long)})\n",
    "            except:\n",
    "        #         print(\"Couldn't find \"+gallery_id)\n",
    "                pass\n",
    "        gallery_locations = [gallery['location'] for gallery in galleries_map]\n",
    "        #         fig = gmaps.figure(center=start_map, zoom_level=13.5)\n",
    "        gallery_info = [info_box_template.format(**gallery) for gallery in galleries_map]\n",
    "#         fig = gmaps.figure(center=start_map, zoom_level=13.5)\n",
    "        layer = gmaps.marker_layer(gallery_locations, info_box_content=gallery_info)\n",
    "        fig.add_layer(layer)\n",
    "        clear_output()\n",
    "        display(fig)"
   ]
  },
  {
   "cell_type": "code",
   "execution_count": 33,
   "id": "52001e38",
   "metadata": {},
   "outputs": [],
   "source": [
    "tab.observe(load_style)"
   ]
  },
  {
   "cell_type": "code",
   "execution_count": 34,
   "id": "a5ee478c",
   "metadata": {},
   "outputs": [],
   "source": [
    "# from IPython.display import clear_output, display\n",
    "# import ipywidgets as widgets\n",
    "\n",
    "\n",
    "# # set up a dictionary of Output widgets\n",
    "# outputs = {i: widgets.Output() for i in range(0,3)}\n",
    "\n",
    "# # add the Output widgets as tab childen\n",
    "# tab = widgets.Tab()\n",
    "# tab.children = list(outputs.values())\n",
    "# for i, title in outputs.items():\n",
    "#     tab.set_title(i, 'Tab '+str(i))\n",
    "\n",
    "# def print_on_select(widget):\n",
    "# #     get the correct Output widget based on the index of the chosen tab\n",
    "#     tab_idx = widget['new']\n",
    "#     output_widget = outputs[tab_idx]\n",
    "#     with output_widget:\n",
    "#         clear_output()\n",
    "#         print('running long function'+str(tab_idx))\n",
    "\n",
    "\n",
    "\n",
    "\n",
    "# tab.observe(print_on_select, names='selected_index')\n",
    "\n",
    "# display(tab)"
   ]
  },
  {
   "cell_type": "code",
   "execution_count": null,
   "id": "a9a48489",
   "metadata": {},
   "outputs": [],
   "source": []
  }
 ],
 "metadata": {
  "kernelspec": {
   "display_name": "Python 3",
   "language": "python",
   "name": "python3"
  },
  "language_info": {
   "codemirror_mode": {
    "name": "ipython",
    "version": 3
   },
   "file_extension": ".py",
   "mimetype": "text/x-python",
   "name": "python",
   "nbconvert_exporter": "python",
   "pygments_lexer": "ipython3",
   "version": "3.7.10"
  }
 },
 "nbformat": 4,
 "nbformat_minor": 5
}
